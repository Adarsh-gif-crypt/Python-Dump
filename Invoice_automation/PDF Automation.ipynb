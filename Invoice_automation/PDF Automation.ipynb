{
 "cells": [
  {
   "cell_type": "code",
   "execution_count": 1,
   "id": "31991cb3",
   "metadata": {
    "scrolled": true
   },
   "outputs": [
    {
     "name": "stdout",
     "output_type": "stream",
     "text": [
      "D:\\Python mini\\PDF Automation\n",
      "Exporting\n",
      "D:\\Python mini\\PDF Automation\n",
      "Exporting\n",
      "D:\\Python mini\\PDF Automation\n",
      "Exporting\n",
      "D:\\Python mini\\PDF Automation\n",
      "Exporting\n",
      "D:\\Python mini\\PDF Automation\n",
      "Exporting\n"
     ]
    }
   ],
   "source": [
    "from docxtpl import DocxTemplate\n",
    "#For creating templates\n",
    "import pandas as pd\n",
    "import time\n",
    "import os\n",
    "\n",
    "from win32com import client\n",
    "word_app = client.Dispatch(\"Word.Application\")\n",
    "\n",
    "data_frame = pd.read_csv('Examplelist.csv')\n",
    "\n",
    "for r_index, row in data_frame.iterrows():\n",
    "    cust_name = row['Name']\n",
    "    #print(cust_name)\n",
    "    #Retreive data from csv to mapped fields\n",
    "    \n",
    "    template = DocxTemplate(\"ExampleTemplate.docx\")\n",
    "    df_to_doct = data_frame.to_dict() \n",
    "    x = data_frame.to_dict(orient='records')\n",
    "    context = x\n",
    "    template.render(context[r_index])\n",
    "    template.save('Test\\\\'+\"Invoice Order\"+cust_name+\".docx\")\n",
    "    \n",
    "    time.sleep(1)\n",
    "    ROOT_DIR = os.path.dirname(os.path.abspath('__file__'))\n",
    "    print(ROOT_DIR)\n",
    "    \n",
    "    #Conversion of Docx to PDF\n",
    "    doc = word_app.Documents.Open(ROOT_DIR+'\\\\Test\\\\'+\"Invoice Order\"+cust_name+'.docx')\n",
    "    print('Exporting')\n",
    "    doc.SaveAs(ROOT_DIR+'\\\\PDFS\\\\'+\"Invoice Order\"+cust_name+'.pdf', FileFormat=17)\n",
    "\n",
    "\n",
    "word_app.Quit()"
   ]
  }
 ],
 "metadata": {
  "kernelspec": {
   "display_name": "Python 3",
   "language": "python",
   "name": "python3"
  },
  "language_info": {
   "codemirror_mode": {
    "name": "ipython",
    "version": 3
   },
   "file_extension": ".py",
   "mimetype": "text/x-python",
   "name": "python",
   "nbconvert_exporter": "python",
   "pygments_lexer": "ipython3",
   "version": "3.8.8"
  }
 },
 "nbformat": 4,
 "nbformat_minor": 5
}
